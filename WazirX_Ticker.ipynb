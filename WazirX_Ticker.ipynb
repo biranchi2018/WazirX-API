{
  "nbformat": 4,
  "nbformat_minor": 0,
  "metadata": {
    "colab": {
      "name": "WazirX Ticker.ipynb",
      "provenance": [],
      "collapsed_sections": [],
      "authorship_tag": "ABX9TyOv3kyrEpme36jYp14f7Xnb",
      "include_colab_link": true
    },
    "kernelspec": {
      "name": "python3",
      "display_name": "Python 3"
    },
    "language_info": {
      "name": "python"
    }
  },
  "cells": [
    {
      "cell_type": "markdown",
      "metadata": {
        "id": "view-in-github",
        "colab_type": "text"
      },
      "source": [
        "<a href=\"https://colab.research.google.com/github/biranchi2018/WazirX-API/blob/main/WazirX_Ticker.ipynb\" target=\"_parent\"><img src=\"https://colab.research.google.com/assets/colab-badge.svg\" alt=\"Open In Colab\"/></a>"
      ]
    },
    {
      "cell_type": "markdown",
      "metadata": {
        "id": "axmq_PgtOmmK"
      },
      "source": [
        "## Ticker\n",
        "\n",
        "https://api.wazirx.com/sapi/v1/tickers/24hr\n",
        "\n",
        "https://api.wazirx.com/api/v2/tickers\n"
      ]
    },
    {
      "cell_type": "code",
      "metadata": {
        "id": "7FT5mn-uOKdf"
      },
      "source": [
        "import pandas as pd\n",
        "import requests\n",
        "import json"
      ],
      "execution_count": 2,
      "outputs": []
    },
    {
      "cell_type": "code",
      "metadata": {
        "id": "TEaIvBcRVw3g"
      },
      "source": [
        "API_URL = 'https://api.wazirx.com/api/v2/tickers'"
      ],
      "execution_count": null,
      "outputs": []
    },
    {
      "cell_type": "code",
      "metadata": {
        "colab": {
          "base_uri": "https://localhost:8080/"
        },
        "id": "BxoX9yEpXK6R",
        "outputId": "3eab35c9-aa90-405d-c7b0-b267cd8895fa"
      },
      "source": [
        "json_data = requests.get(API_URL).json()\n",
        "json_data.keys() "
      ],
      "execution_count": 3,
      "outputs": [
        {
          "output_type": "execute_result",
          "data": {
            "text/plain": [
              "dict_keys(['btcinr', 'xrpinr', 'ethinr', 'trxinr', 'eosinr', 'zilinr', 'batinr', 'zrxinr', 'omginr', 'polyinr', 'iostinr', 'dentinr', 'hotinr', 'usdtinr', 'wrxinr', 'maticinr', 'bchinr', 'bnbinr', 'bttinr', 'chzinr', 'oneinr', 'yfiinr', 'uniinr', 'linkinr', 'sxpinr', 'adainr', 'nanoinr', 'atominr', 'xlminr', 'fetinr', 'xeminr', 'zecinr', 'busdinr', 'yfiiinr', 'dogeinr', 'dotinr', 'vetinr', 'crvinr', 'reninr', 'enjinr', 'manainr', 'hbarinr', 'umainr', 'chrinr', 'paxginr', '1inchinr', 'etcinr', 'uftinr', 'dockinr', 'filinr', 'wininr', 'tkoinr', 'pushinr', 'avaxinr', 'lunainr', 'xvginr', 'scinr', 'fttinr', 'dgbinr', 'cvcinr', 'cakeinr', 'ezinr', 'bzrxinr', 'ftminr', 'hntinr', 'arkinr', 'ctsiinr', 'kmdinr', 'solinr', 'cotiinr', 'iotxinr', 'shibinr', 'rlcinr', 'trbinr', 'reefinr', 'icpinr', 'ontinr', 'ckbinr', 'pntinr', 'xvsinr', 'viteinr', 'dcrinr', 'mdxinr', 'phainr', 'runeinr', 'ogninr', 'mirinr', 'datainr', 'ksminr', 'nkninr', 'balinr', 'dntinr', 'keepinr', 'snxinr', 'axsinr', 'celrinr', 'alphainr', 'compinr', 'aliceinr', 'egldinr', 'klayinr', 'sandinr', 'frontinr', 'lrcinr', 'stxinr', 'algoinr', 'pondinr', 'alpacainr', 'xecinr', 'ilvinr', 'mlninr', 'dydxinr', 'cfxinr', 'stptinr', 'radinr', 'burgerinr', 'bcdinr', 'roseinr', 'scrtinr', 'sysinr', 'agldinr', 'keyinr', 'rareinr', 'suninr', 'slpinr', 'nuinr', 'auctioninr', 'atainr', 'oceaninr', 'superinr', 'betainr', 'cocosinr', 'waxpinr', 'arinr', 'sushiinr', 'mkrinr', 'gtoinr', 'qiinr', 'galainr', 'chessinr', 'tlminr', 'ensinr', 'ltoinr', 'ltcinr', 'dashinr', 'xrpbtc', 'trxbtc', 'ethbtc', 'zilbtc', 'batbtc', 'ltcbtc', 'qkcbtc', 'dashbtc', 'funbtc', 'iostbtc', 'nulsbtc', 'omgbtc', 'reqbtc', 'sntbtc', 'thetabtc', 'zrxbtc', 'eosbtc', 'icxbtc', 'polybtc', 'usdcbtc', 'xlmbtc', 'fetbtc', 'celrbtc', 'maticbtc', 'adabtc', 'rvnbtc', 'xmrbtc', 'atombtc', 'bnbbtc', 'wrxbtc', 'fttbtc', 'stmxbtc', 'glmbtc', 'btcusdt', 'trxusdt', 'xrpusdt', 'eosusdt', 'ethusdt', 'icxusdt', 'ltcusdt', 'tusdusdt', 'hotusdt', 'batusdt', 'dashusdt', 'ncashusdt', 'qkcusdt', 'zilusdt', 'zrxusdt', 'bchusdt', 'bchsvusdt', 'usdcusdt', 'omgusdt', 'polyusdt', 'dentusdt', 'iostusdt', 'funusdt', 'sntusdt', 'thetausdt', 'requsdt', 'xlmusdt', 'xtzusdt', 'bttusdt', 'fetusdt', 'tfuelusdt', 'celrusdt', 'maticusdt', 'adausdt', 'rvnusdt', 'xmrusdt', 'atomusdt', 'algousdt', 'linkusdt', 'qtumusdt', 'etcusdt', 'iotausdt', 'zecusdt', 'wavesusdt', 'ftmusdt', 'enjusdt', 'lskusdt', 'steemusdt', 'xvgusdt', 'loomusdt', 'manausdt', 'repusdt', 'blzusdt', 'nanousdt', 'scusdt', 'btgusdt', 'xemusdt', 'btsusdt', 'ardrusdt', 'nasusdt', 'winusdt', 'bnbusdt', 'chzusdt', 'wrxusdt', 'kavausdt', 'ankrusdt', 'busdusdt', 'oneusdt', 'ognusdt', 'hiveusdt', 'fttusdt', 'bandusdt', 'jstusdt', 'ctsiusdt', 'chrusdt', 'tomousdt', 'stxusdt', 'stmxusdt', 'gxsusdt', 'mdtusdt', 'ltousdt', 'lrcusdt', 'dogeusdt', 'neousdt', 'hbarusdt', 'storjusdt', 'compusdt', 'cotiusdt', 'dgbusdt', 'grsusdt', 'snxusdt', 'renusdt', 'sxpusdt', 'mkrusdt', 'daiusdt', 'avausdt', 'balusdt', 'srmusdt', 'egldusdt', 'cosusdt', 'nbsusdt', 'aionusdt', 'dotusdt', 'yfiusdt', 'iotxusdt', 'sandusdt', 'uniusdt', 'datausdt', 'paxgusdt', 'creamusdt', 'swrvusdt', 'umausdt', 'diausdt', 'ksmusdt', 'yfiiusdt', 'bzrxusdt', 'trbusdt', 'adxusdt', 'aaveusdt', 'filusdt', 'crvusdt', 'nearusdt', 'hntusdt', 'avaxusdt', 'oxtusdt', 'dockusdt', 'duskusdt', 'wtcusdt', 'perlusdt', 'straxusdt', 'injusdt', 'vetusdt', 'mtlusdt', 'frontusdt', 'glmusdt', 'sushiusdt', 'firousdt', 'dexeusdt', 'grtusdt', 'bntusdt', 'rsrusdt', '1inchusdt', 'lunausdt', 'uftusdt', 'pundixusdt', 'ckbusdt', 'vibusdt', 'gtousdt', 'tkousdt', 'pushusdt', 'cvcusdt', 'cakeusdt', 'ezusdt', 'arkusdt', 'kmdusdt', 'solusdt', 'shibusdt', 'rlcusdt', 'reefusdt', 'icpusdt', 'ontusdt', 'pntusdt', 'xvsusdt', 'viteusdt', 'dcrusdt', 'mdxusdt', 'phausdt', 'runeusdt', 'mirusdt', 'nknusdt', 'dntusdt', 'keepusdt', 'axsusdt', 'alphausdt', 'aliceusdt', 'klayusdt', 'xecusdt', 'perpusdt', 'qntusdt', 'flowusdt', 'vgxusdt', 'arusdt', 'rayusdt', 'dodousdt', 'minausdt', 'clvusdt', 'bakeusdt', 'alpacausdt', 'usdpusdt', 'gnousdt', 'tlmusdt', 'audiousdt', 'sklusdt', 'mboxusdt', 'degousdt', 'galausdt', 'maskusdt', 'mftusdt', 'pondusdt', 'ilvusdt', 'mlnusdt', 'dydxusdt', 'cfxusdt', 'stptusdt', 'radusdt', 'burgerusdt', 'bcdusdt', 'roseusdt', 'scrtusdt', 'sysusdt', 'agldusdt', 'keyusdt', 'rareusdt', 'sunusdt', 'slpusdt', 'nuusdt', 'auctionusdt', 'atausdt', 'oceanusdt', 'superusdt', 'betausdt', 'cocosusdt', 'waxpusdt', 'qiusdt', 'chessusdt', 'ensusdt', 'ethwrx', 'xrpwrx', 'yfiwrx', 'bnbwrx', 'trxwrx', 'eoswrx', 'ltcwrx', 'linkwrx', 'enjwrx', 'dogewrx', 'maticwrx', 'adawrx', 'batwrx', 'shibwrx', '1inchwrx', 'dockwrx', 'runewrx', 'chrwrx', 'yfiiwrx', 'lunawrx'])"
            ]
          },
          "metadata": {},
          "execution_count": 3
        }
      ]
    },
    {
      "cell_type": "code",
      "metadata": {
        "id": "du8vXOJSO99z"
      },
      "source": [
        "watch_list = ['btc', 'eth', 'usdt', 'bnb', 'uni', 'doge', 'dot', 'mana', 'chr', 'avax', 'sol', \\\n",
        "              'shib', 'axs', 'alice', 'egld', 'sand']\n",
        "curr = ['inr']"
      ],
      "execution_count": 7,
      "outputs": []
    },
    {
      "cell_type": "code",
      "metadata": {
        "id": "-jNz1JZ_P9B5"
      },
      "source": [
        "filtered_crypto_keys = [key for key in json_data.keys() \\\n",
        "                        for key_pref in watch_list \\\n",
        "                        if key.startswith(key_pref) and key.endswith(curr[0])] \n"
      ],
      "execution_count": 10,
      "outputs": []
    },
    {
      "cell_type": "code",
      "metadata": {
        "id": "BOlgRByRXuZt",
        "colab": {
          "base_uri": "https://localhost:8080/"
        },
        "outputId": "325bd427-3f6d-4320-9025-eba7d10b532f"
      },
      "source": [
        "filtered_crypto_keys"
      ],
      "execution_count": 15,
      "outputs": [
        {
          "output_type": "execute_result",
          "data": {
            "text/plain": [
              "['btcinr',\n",
              " 'ethinr',\n",
              " 'usdtinr',\n",
              " 'bnbinr',\n",
              " 'uniinr',\n",
              " 'dogeinr',\n",
              " 'dotinr',\n",
              " 'manainr',\n",
              " 'chrinr',\n",
              " 'avaxinr',\n",
              " 'solinr',\n",
              " 'shibinr',\n",
              " 'axsinr',\n",
              " 'aliceinr',\n",
              " 'egldinr',\n",
              " 'sandinr']"
            ]
          },
          "metadata": {},
          "execution_count": 15
        }
      ]
    },
    {
      "cell_type": "code",
      "metadata": {
        "id": "Tccl7aQ7YGAs",
        "colab": {
          "base_uri": "https://localhost:8080/"
        },
        "outputId": "2e74ebe7-3889-43bb-d611-89af7667f982"
      },
      "source": [
        "filtered_crypto = [{'crypto': key, \n",
        "                    'name' : json_data[key]['name'],\n",
        "                    'last' : float(json_data[key]['last']),\n",
        "                    'low' : float(json_data[key]['low']),\n",
        "                    'high' : float(json_data[key]['high']),\n",
        "                    'open' : float(json_data[key]['open']),\n",
        "                    'buy' : float(json_data[key]['buy']),\n",
        "                    'sell' : float(json_data[key]['sell']), \n",
        "                    'volume' : float(json_data[key]['volume'])} \\\n",
        "                   for key in filtered_crypto_keys]\n",
        "filtered_crypto[:2]"
      ],
      "execution_count": 34,
      "outputs": [
        {
          "output_type": "execute_result",
          "data": {
            "text/plain": [
              "[{'buy': 4441399.0,\n",
              "  'crypto': 'btcinr',\n",
              "  'high': 4575668.0,\n",
              "  'last': 4440404.0,\n",
              "  'low': 3360018.0,\n",
              "  'name': 'BTC/INR',\n",
              "  'open': 4392308.0,\n",
              "  'sell': 4444620.0,\n",
              "  'volume': 594.55312},\n",
              " {'buy': 340262.5,\n",
              "  'crypto': 'ethinr',\n",
              "  'high': 349000.0,\n",
              "  'last': 340262.5,\n",
              "  'low': 320517.8,\n",
              "  'name': 'ETH/INR',\n",
              "  'open': 327000.0,\n",
              "  'sell': 340998.6,\n",
              "  'volume': 1001.1128}]"
            ]
          },
          "metadata": {},
          "execution_count": 34
        }
      ]
    },
    {
      "cell_type": "code",
      "metadata": {
        "id": "UDWTa4oAUfZM"
      },
      "source": [
        "pd.options.display.float_format = '{:,.2f}'.format"
      ],
      "execution_count": 45,
      "outputs": []
    },
    {
      "cell_type": "code",
      "metadata": {
        "id": "pr0GWMbuWKtP"
      },
      "source": [
        ""
      ],
      "execution_count": null,
      "outputs": []
    },
    {
      "cell_type": "markdown",
      "metadata": {
        "id": "ck0nsizTV6yo"
      },
      "source": [
        "### Create DataFrame"
      ]
    },
    {
      "cell_type": "code",
      "metadata": {
        "colab": {
          "base_uri": "https://localhost:8080/",
          "height": 204
        },
        "id": "PwPesOGeONFW",
        "outputId": "1e240262-4e92-4531-a8ab-07fb3001d44f"
      },
      "source": [
        "df = pd.DataFrame(filtered_crypto)\n",
        "df.head()"
      ],
      "execution_count": 53,
      "outputs": [
        {
          "output_type": "execute_result",
          "data": {
            "text/html": [
              "<div>\n",
              "<style scoped>\n",
              "    .dataframe tbody tr th:only-of-type {\n",
              "        vertical-align: middle;\n",
              "    }\n",
              "\n",
              "    .dataframe tbody tr th {\n",
              "        vertical-align: top;\n",
              "    }\n",
              "\n",
              "    .dataframe thead th {\n",
              "        text-align: right;\n",
              "    }\n",
              "</style>\n",
              "<table border=\"1\" class=\"dataframe\">\n",
              "  <thead>\n",
              "    <tr style=\"text-align: right;\">\n",
              "      <th></th>\n",
              "      <th>crypto</th>\n",
              "      <th>name</th>\n",
              "      <th>last</th>\n",
              "      <th>low</th>\n",
              "      <th>high</th>\n",
              "      <th>open</th>\n",
              "      <th>buy</th>\n",
              "      <th>sell</th>\n",
              "      <th>volume</th>\n",
              "    </tr>\n",
              "  </thead>\n",
              "  <tbody>\n",
              "    <tr>\n",
              "      <th>0</th>\n",
              "      <td>btcinr</td>\n",
              "      <td>BTC/INR</td>\n",
              "      <td>4,440,404.00</td>\n",
              "      <td>3,360,018.00</td>\n",
              "      <td>4,575,668.00</td>\n",
              "      <td>4,392,308.00</td>\n",
              "      <td>4,441,399.00</td>\n",
              "      <td>4,444,620.00</td>\n",
              "      <td>594.55</td>\n",
              "    </tr>\n",
              "    <tr>\n",
              "      <th>1</th>\n",
              "      <td>ethinr</td>\n",
              "      <td>ETH/INR</td>\n",
              "      <td>340,262.50</td>\n",
              "      <td>320,517.80</td>\n",
              "      <td>349,000.00</td>\n",
              "      <td>327,000.00</td>\n",
              "      <td>340,262.50</td>\n",
              "      <td>340,998.60</td>\n",
              "      <td>1,001.11</td>\n",
              "    </tr>\n",
              "    <tr>\n",
              "      <th>2</th>\n",
              "      <td>usdtinr</td>\n",
              "      <td>USDT/INR</td>\n",
              "      <td>76.79</td>\n",
              "      <td>74.87</td>\n",
              "      <td>77.50</td>\n",
              "      <td>76.33</td>\n",
              "      <td>76.74</td>\n",
              "      <td>76.79</td>\n",
              "      <td>33,514,459.14</td>\n",
              "    </tr>\n",
              "    <tr>\n",
              "      <th>3</th>\n",
              "      <td>bnbinr</td>\n",
              "      <td>BNB/INR</td>\n",
              "      <td>49,250.00</td>\n",
              "      <td>44,999.00</td>\n",
              "      <td>50,400.00</td>\n",
              "      <td>46,500.00</td>\n",
              "      <td>49,135.28</td>\n",
              "      <td>49,250.00</td>\n",
              "      <td>2,667.78</td>\n",
              "    </tr>\n",
              "    <tr>\n",
              "      <th>4</th>\n",
              "      <td>uniinr</td>\n",
              "      <td>UNI/INR</td>\n",
              "      <td>1,614.74</td>\n",
              "      <td>1,560.71</td>\n",
              "      <td>1,667.00</td>\n",
              "      <td>1,564.90</td>\n",
              "      <td>1,613.09</td>\n",
              "      <td>1,614.37</td>\n",
              "      <td>4,236.83</td>\n",
              "    </tr>\n",
              "  </tbody>\n",
              "</table>\n",
              "</div>"
            ],
            "text/plain": [
              "    crypto      name         last  ...          buy         sell        volume\n",
              "0   btcinr   BTC/INR 4,440,404.00  ... 4,441,399.00 4,444,620.00        594.55\n",
              "1   ethinr   ETH/INR   340,262.50  ...   340,262.50   340,998.60      1,001.11\n",
              "2  usdtinr  USDT/INR        76.79  ...        76.74        76.79 33,514,459.14\n",
              "3   bnbinr   BNB/INR    49,250.00  ...    49,135.28    49,250.00      2,667.78\n",
              "4   uniinr   UNI/INR     1,614.74  ...     1,613.09     1,614.37      4,236.83\n",
              "\n",
              "[5 rows x 9 columns]"
            ]
          },
          "metadata": {},
          "execution_count": 53
        }
      ]
    },
    {
      "cell_type": "code",
      "metadata": {
        "id": "Hak3NyeqTlM1"
      },
      "source": [
        "# df.info()"
      ],
      "execution_count": 54,
      "outputs": []
    },
    {
      "cell_type": "code",
      "metadata": {
        "id": "KUibjrcgOSZi",
        "colab": {
          "base_uri": "https://localhost:8080/",
          "height": 235
        },
        "outputId": "12c68a4a-0fd9-4634-b81a-7a0ad9aa9fa1"
      },
      "source": [
        "df.set_index('crypto', drop=True, inplace=True)\n",
        "df.head()"
      ],
      "execution_count": 55,
      "outputs": [
        {
          "output_type": "execute_result",
          "data": {
            "text/html": [
              "<div>\n",
              "<style scoped>\n",
              "    .dataframe tbody tr th:only-of-type {\n",
              "        vertical-align: middle;\n",
              "    }\n",
              "\n",
              "    .dataframe tbody tr th {\n",
              "        vertical-align: top;\n",
              "    }\n",
              "\n",
              "    .dataframe thead th {\n",
              "        text-align: right;\n",
              "    }\n",
              "</style>\n",
              "<table border=\"1\" class=\"dataframe\">\n",
              "  <thead>\n",
              "    <tr style=\"text-align: right;\">\n",
              "      <th></th>\n",
              "      <th>name</th>\n",
              "      <th>last</th>\n",
              "      <th>low</th>\n",
              "      <th>high</th>\n",
              "      <th>open</th>\n",
              "      <th>buy</th>\n",
              "      <th>sell</th>\n",
              "      <th>volume</th>\n",
              "    </tr>\n",
              "    <tr>\n",
              "      <th>crypto</th>\n",
              "      <th></th>\n",
              "      <th></th>\n",
              "      <th></th>\n",
              "      <th></th>\n",
              "      <th></th>\n",
              "      <th></th>\n",
              "      <th></th>\n",
              "      <th></th>\n",
              "    </tr>\n",
              "  </thead>\n",
              "  <tbody>\n",
              "    <tr>\n",
              "      <th>btcinr</th>\n",
              "      <td>BTC/INR</td>\n",
              "      <td>4,440,404.00</td>\n",
              "      <td>3,360,018.00</td>\n",
              "      <td>4,575,668.00</td>\n",
              "      <td>4,392,308.00</td>\n",
              "      <td>4,441,399.00</td>\n",
              "      <td>4,444,620.00</td>\n",
              "      <td>594.55</td>\n",
              "    </tr>\n",
              "    <tr>\n",
              "      <th>ethinr</th>\n",
              "      <td>ETH/INR</td>\n",
              "      <td>340,262.50</td>\n",
              "      <td>320,517.80</td>\n",
              "      <td>349,000.00</td>\n",
              "      <td>327,000.00</td>\n",
              "      <td>340,262.50</td>\n",
              "      <td>340,998.60</td>\n",
              "      <td>1,001.11</td>\n",
              "    </tr>\n",
              "    <tr>\n",
              "      <th>usdtinr</th>\n",
              "      <td>USDT/INR</td>\n",
              "      <td>76.79</td>\n",
              "      <td>74.87</td>\n",
              "      <td>77.50</td>\n",
              "      <td>76.33</td>\n",
              "      <td>76.74</td>\n",
              "      <td>76.79</td>\n",
              "      <td>33,514,459.14</td>\n",
              "    </tr>\n",
              "    <tr>\n",
              "      <th>bnbinr</th>\n",
              "      <td>BNB/INR</td>\n",
              "      <td>49,250.00</td>\n",
              "      <td>44,999.00</td>\n",
              "      <td>50,400.00</td>\n",
              "      <td>46,500.00</td>\n",
              "      <td>49,135.28</td>\n",
              "      <td>49,250.00</td>\n",
              "      <td>2,667.78</td>\n",
              "    </tr>\n",
              "    <tr>\n",
              "      <th>uniinr</th>\n",
              "      <td>UNI/INR</td>\n",
              "      <td>1,614.74</td>\n",
              "      <td>1,560.71</td>\n",
              "      <td>1,667.00</td>\n",
              "      <td>1,564.90</td>\n",
              "      <td>1,613.09</td>\n",
              "      <td>1,614.37</td>\n",
              "      <td>4,236.83</td>\n",
              "    </tr>\n",
              "  </tbody>\n",
              "</table>\n",
              "</div>"
            ],
            "text/plain": [
              "             name         last  ...         sell        volume\n",
              "crypto                          ...                           \n",
              "btcinr    BTC/INR 4,440,404.00  ... 4,444,620.00        594.55\n",
              "ethinr    ETH/INR   340,262.50  ...   340,998.60      1,001.11\n",
              "usdtinr  USDT/INR        76.79  ...        76.79 33,514,459.14\n",
              "bnbinr    BNB/INR    49,250.00  ...    49,250.00      2,667.78\n",
              "uniinr    UNI/INR     1,614.74  ...     1,614.37      4,236.83\n",
              "\n",
              "[5 rows x 8 columns]"
            ]
          },
          "metadata": {},
          "execution_count": 55
        }
      ]
    },
    {
      "cell_type": "code",
      "metadata": {
        "id": "vNEPo5QPS2F1"
      },
      "source": [
        ""
      ],
      "execution_count": 60,
      "outputs": []
    },
    {
      "cell_type": "markdown",
      "metadata": {
        "id": "pQ8z_BLHWG2Z"
      },
      "source": [
        "### Sorting DataFrame by Fields"
      ]
    },
    {
      "cell_type": "code",
      "metadata": {
        "colab": {
          "base_uri": "https://localhost:8080/",
          "height": 204
        },
        "id": "LQwvpOa-TM3B",
        "outputId": "2d629115-ebae-484f-ba0f-0ae88630c227"
      },
      "source": [
        "df.sort_values('volume', ascending=False, inplace=True)\n",
        "df.reset_index(drop=True, inplace=True)\n",
        "df.head()"
      ],
      "execution_count": 58,
      "outputs": [
        {
          "output_type": "execute_result",
          "data": {
            "text/html": [
              "<div>\n",
              "<style scoped>\n",
              "    .dataframe tbody tr th:only-of-type {\n",
              "        vertical-align: middle;\n",
              "    }\n",
              "\n",
              "    .dataframe tbody tr th {\n",
              "        vertical-align: top;\n",
              "    }\n",
              "\n",
              "    .dataframe thead th {\n",
              "        text-align: right;\n",
              "    }\n",
              "</style>\n",
              "<table border=\"1\" class=\"dataframe\">\n",
              "  <thead>\n",
              "    <tr style=\"text-align: right;\">\n",
              "      <th></th>\n",
              "      <th>name</th>\n",
              "      <th>last</th>\n",
              "      <th>low</th>\n",
              "      <th>high</th>\n",
              "      <th>open</th>\n",
              "      <th>buy</th>\n",
              "      <th>sell</th>\n",
              "      <th>volume</th>\n",
              "    </tr>\n",
              "  </thead>\n",
              "  <tbody>\n",
              "    <tr>\n",
              "      <th>0</th>\n",
              "      <td>SHIB/INR</td>\n",
              "      <td>0.00</td>\n",
              "      <td>0.00</td>\n",
              "      <td>0.00</td>\n",
              "      <td>0.00</td>\n",
              "      <td>0.00</td>\n",
              "      <td>0.00</td>\n",
              "      <td>1,391,112,900,524.00</td>\n",
              "    </tr>\n",
              "    <tr>\n",
              "      <th>1</th>\n",
              "      <td>USDT/INR</td>\n",
              "      <td>76.79</td>\n",
              "      <td>74.87</td>\n",
              "      <td>77.50</td>\n",
              "      <td>76.33</td>\n",
              "      <td>76.74</td>\n",
              "      <td>76.79</td>\n",
              "      <td>33,514,459.14</td>\n",
              "    </tr>\n",
              "    <tr>\n",
              "      <th>2</th>\n",
              "      <td>DOGE/INR</td>\n",
              "      <td>16.80</td>\n",
              "      <td>16.20</td>\n",
              "      <td>18.00</td>\n",
              "      <td>16.67</td>\n",
              "      <td>16.80</td>\n",
              "      <td>16.80</td>\n",
              "      <td>19,167,007.00</td>\n",
              "    </tr>\n",
              "    <tr>\n",
              "      <th>3</th>\n",
              "      <td>CHR/INR</td>\n",
              "      <td>89.10</td>\n",
              "      <td>89.00</td>\n",
              "      <td>103.40</td>\n",
              "      <td>90.60</td>\n",
              "      <td>89.00</td>\n",
              "      <td>89.10</td>\n",
              "      <td>3,857,414.00</td>\n",
              "    </tr>\n",
              "    <tr>\n",
              "      <th>4</th>\n",
              "      <td>MANA/INR</td>\n",
              "      <td>383.00</td>\n",
              "      <td>364.00</td>\n",
              "      <td>452.16</td>\n",
              "      <td>357.00</td>\n",
              "      <td>383.00</td>\n",
              "      <td>383.25</td>\n",
              "      <td>3,453,618.40</td>\n",
              "    </tr>\n",
              "  </tbody>\n",
              "</table>\n",
              "</div>"
            ],
            "text/plain": [
              "       name   last    low   high   open    buy   sell               volume\n",
              "0  SHIB/INR   0.00   0.00   0.00   0.00   0.00   0.00 1,391,112,900,524.00\n",
              "1  USDT/INR  76.79  74.87  77.50  76.33  76.74  76.79        33,514,459.14\n",
              "2  DOGE/INR  16.80  16.20  18.00  16.67  16.80  16.80        19,167,007.00\n",
              "3   CHR/INR  89.10  89.00 103.40  90.60  89.00  89.10         3,857,414.00\n",
              "4  MANA/INR 383.00 364.00 452.16 357.00 383.00 383.25         3,453,618.40"
            ]
          },
          "metadata": {},
          "execution_count": 58
        }
      ]
    },
    {
      "cell_type": "code",
      "metadata": {
        "colab": {
          "base_uri": "https://localhost:8080/",
          "height": 204
        },
        "id": "k4MLRJZUTXRG",
        "outputId": "e909138e-cd08-46b0-f733-f87ebbf88918"
      },
      "source": [
        "df.sort_values('sell', ascending=False, inplace=True)\n",
        "df.reset_index(drop=True, inplace=True)\n",
        "df.head()"
      ],
      "execution_count": 59,
      "outputs": [
        {
          "output_type": "execute_result",
          "data": {
            "text/html": [
              "<div>\n",
              "<style scoped>\n",
              "    .dataframe tbody tr th:only-of-type {\n",
              "        vertical-align: middle;\n",
              "    }\n",
              "\n",
              "    .dataframe tbody tr th {\n",
              "        vertical-align: top;\n",
              "    }\n",
              "\n",
              "    .dataframe thead th {\n",
              "        text-align: right;\n",
              "    }\n",
              "</style>\n",
              "<table border=\"1\" class=\"dataframe\">\n",
              "  <thead>\n",
              "    <tr style=\"text-align: right;\">\n",
              "      <th></th>\n",
              "      <th>name</th>\n",
              "      <th>last</th>\n",
              "      <th>low</th>\n",
              "      <th>high</th>\n",
              "      <th>open</th>\n",
              "      <th>buy</th>\n",
              "      <th>sell</th>\n",
              "      <th>volume</th>\n",
              "    </tr>\n",
              "  </thead>\n",
              "  <tbody>\n",
              "    <tr>\n",
              "      <th>0</th>\n",
              "      <td>BTC/INR</td>\n",
              "      <td>4,440,404.00</td>\n",
              "      <td>3,360,018.00</td>\n",
              "      <td>4,575,668.00</td>\n",
              "      <td>4,392,308.00</td>\n",
              "      <td>4,441,399.00</td>\n",
              "      <td>4,444,620.00</td>\n",
              "      <td>594.55</td>\n",
              "    </tr>\n",
              "    <tr>\n",
              "      <th>1</th>\n",
              "      <td>ETH/INR</td>\n",
              "      <td>340,262.50</td>\n",
              "      <td>320,517.80</td>\n",
              "      <td>349,000.00</td>\n",
              "      <td>327,000.00</td>\n",
              "      <td>340,262.50</td>\n",
              "      <td>340,998.60</td>\n",
              "      <td>1,001.11</td>\n",
              "    </tr>\n",
              "    <tr>\n",
              "      <th>2</th>\n",
              "      <td>BNB/INR</td>\n",
              "      <td>49,250.00</td>\n",
              "      <td>44,999.00</td>\n",
              "      <td>50,400.00</td>\n",
              "      <td>46,500.00</td>\n",
              "      <td>49,135.28</td>\n",
              "      <td>49,250.00</td>\n",
              "      <td>2,667.78</td>\n",
              "    </tr>\n",
              "    <tr>\n",
              "      <th>3</th>\n",
              "      <td>EGLD/INR</td>\n",
              "      <td>33,000.00</td>\n",
              "      <td>32,800.00</td>\n",
              "      <td>35,700.00</td>\n",
              "      <td>34,200.00</td>\n",
              "      <td>33,000.00</td>\n",
              "      <td>33,144.23</td>\n",
              "      <td>706.97</td>\n",
              "    </tr>\n",
              "    <tr>\n",
              "      <th>4</th>\n",
              "      <td>SOL/INR</td>\n",
              "      <td>15,887.04</td>\n",
              "      <td>15,500.10</td>\n",
              "      <td>16,600.00</td>\n",
              "      <td>15,948.97</td>\n",
              "      <td>15,818.96</td>\n",
              "      <td>15,887.03</td>\n",
              "      <td>6,340.62</td>\n",
              "    </tr>\n",
              "  </tbody>\n",
              "</table>\n",
              "</div>"
            ],
            "text/plain": [
              "       name         last          low  ...          buy         sell   volume\n",
              "0   BTC/INR 4,440,404.00 3,360,018.00  ... 4,441,399.00 4,444,620.00   594.55\n",
              "1   ETH/INR   340,262.50   320,517.80  ...   340,262.50   340,998.60 1,001.11\n",
              "2   BNB/INR    49,250.00    44,999.00  ...    49,135.28    49,250.00 2,667.78\n",
              "3  EGLD/INR    33,000.00    32,800.00  ...    33,000.00    33,144.23   706.97\n",
              "4   SOL/INR    15,887.04    15,500.10  ...    15,818.96    15,887.03 6,340.62\n",
              "\n",
              "[5 rows x 8 columns]"
            ]
          },
          "metadata": {},
          "execution_count": 59
        }
      ]
    },
    {
      "cell_type": "code",
      "metadata": {
        "id": "SEWREL_zVd6t"
      },
      "source": [
        ""
      ],
      "execution_count": null,
      "outputs": []
    }
  ]
}